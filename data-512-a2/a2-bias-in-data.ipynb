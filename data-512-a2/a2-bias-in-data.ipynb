{
 "cells": [
  {
   "cell_type": "markdown",
   "metadata": {},
   "source": [
    "# DATA 512 \n",
    "## A2: Bias in data\n",
    "For this assignment, two labeled datasets (Aggression and Toxicity) from the Wikipedia Talk corpus are analyzed to explore relationships between worker demographics and labeling behavior. Additional analysis is performed to compare the labeling behavior between the two datasets. The goal of this assignment is to identify potential sources of bias in human-labeled data."
   ]
  },
  {
   "cell_type": "markdown",
   "metadata": {},
   "source": [
    "## Download data from Figshare"
   ]
  },
  {
   "cell_type": "code",
   "execution_count": 1,
   "metadata": {},
   "outputs": [
    {
     "name": "stdout",
     "output_type": "stream",
     "text": [
      "--2020-10-19 20:40:33--  https://ndownloader.figshare.com/files/7394539\n",
      "Resolving ndownloader.figshare.com (ndownloader.figshare.com)... 34.252.62.189, 52.19.122.207, 34.250.140.125, ...\n",
      "Connecting to ndownloader.figshare.com (ndownloader.figshare.com)|34.252.62.189|:443... connected.\n",
      "HTTP request sent, awaiting response... 302 Found\n",
      "Location: https://s3-eu-west-1.amazonaws.com/pfigshare-u-files/7394539/toxicity_annotations.tsv [following]\n",
      "--2020-10-19 20:40:33--  https://s3-eu-west-1.amazonaws.com/pfigshare-u-files/7394539/toxicity_annotations.tsv\n",
      "Resolving s3-eu-west-1.amazonaws.com (s3-eu-west-1.amazonaws.com)... 52.218.91.99\n",
      "Connecting to s3-eu-west-1.amazonaws.com (s3-eu-west-1.amazonaws.com)|52.218.91.99|:443... connected.\n",
      "HTTP request sent, awaiting response... 200 OK\n",
      "Length: 36177321 (35M) [binary/octet-stream]\n",
      "Saving to: ‘toxicity_annotations.tsv’\n",
      "\n",
      "toxicity_annotation 100%[===================>]  34.50M  14.0MB/s    in 2.5s    \n",
      "\n",
      "2020-10-19 20:40:36 (14.0 MB/s) - ‘toxicity_annotations.tsv’ saved [36177321/36177321]\n",
      "\n"
     ]
    }
   ],
   "source": [
    "!wget https://ndownloader.figshare.com/files/7394539 -O toxicity_annotations.tsv"
   ]
  },
  {
   "cell_type": "code",
   "execution_count": 2,
   "metadata": {},
   "outputs": [
    {
     "name": "stdout",
     "output_type": "stream",
     "text": [
      "--2020-10-19 20:41:36--  https://ndownloader.figshare.com/files/7394542\n",
      "Resolving ndownloader.figshare.com (ndownloader.figshare.com)... 34.250.140.125, 52.19.91.162, 34.252.62.189, ...\n",
      "Connecting to ndownloader.figshare.com (ndownloader.figshare.com)|34.250.140.125|:443... connected.\n",
      "HTTP request sent, awaiting response... 302 Found\n",
      "Location: https://s3-eu-west-1.amazonaws.com/pfigshare-u-files/7394542/toxicity_annotated_comments.tsv [following]\n",
      "--2020-10-19 20:41:37--  https://s3-eu-west-1.amazonaws.com/pfigshare-u-files/7394542/toxicity_annotated_comments.tsv\n",
      "Resolving s3-eu-west-1.amazonaws.com (s3-eu-west-1.amazonaws.com)... 52.218.29.147\n",
      "Connecting to s3-eu-west-1.amazonaws.com (s3-eu-west-1.amazonaws.com)|52.218.29.147|:443... connected.\n",
      "HTTP request sent, awaiting response... 200 OK\n",
      "Length: 78187921 (75M) [binary/octet-stream]\n",
      "Saving to: ‘toxicity_annotated_comments.tsv’\n",
      "\n",
      "toxicity_annotated_ 100%[===================>]  74.57M  16.1MB/s    in 4.6s    \n",
      "\n",
      "2020-10-19 20:41:42 (16.1 MB/s) - ‘toxicity_annotated_comments.tsv’ saved [78187921/78187921]\n",
      "\n"
     ]
    }
   ],
   "source": [
    "!wget https://ndownloader.figshare.com/files/7394542 -O toxicity_annotated_comments.tsv"
   ]
  },
  {
   "cell_type": "code",
   "execution_count": 3,
   "metadata": {},
   "outputs": [
    {
     "name": "stdout",
     "output_type": "stream",
     "text": [
      "--2020-10-19 20:41:49--  https://ndownloader.figshare.com/files/7640581\n",
      "Resolving ndownloader.figshare.com (ndownloader.figshare.com)... 34.250.140.125, 52.19.91.162, 34.252.62.189, ...\n",
      "Connecting to ndownloader.figshare.com (ndownloader.figshare.com)|34.250.140.125|:443... connected.\n",
      "HTTP request sent, awaiting response... 302 Found\n",
      "Location: https://s3-eu-west-1.amazonaws.com/pfigshare-u-files/7640581/toxicity_worker_demographics.tsv [following]\n",
      "--2020-10-19 20:41:50--  https://s3-eu-west-1.amazonaws.com/pfigshare-u-files/7640581/toxicity_worker_demographics.tsv\n",
      "Resolving s3-eu-west-1.amazonaws.com (s3-eu-west-1.amazonaws.com)... 52.218.52.250\n",
      "Connecting to s3-eu-west-1.amazonaws.com (s3-eu-west-1.amazonaws.com)|52.218.52.250|:443... connected.\n",
      "HTTP request sent, awaiting response... 200 OK\n",
      "Length: 94645 (92K) [binary/octet-stream]\n",
      "Saving to: ‘toxicity_worker_demographics.tsv’\n",
      "\n",
      "toxicity_worker_dem 100%[===================>]  92.43K   339KB/s    in 0.3s    \n",
      "\n",
      "2020-10-19 20:41:51 (339 KB/s) - ‘toxicity_worker_demographics.tsv’ saved [94645/94645]\n",
      "\n"
     ]
    }
   ],
   "source": [
    "!wget https://ndownloader.figshare.com/files/7640581 -O toxicity_worker_demographics.tsv"
   ]
  },
  {
   "cell_type": "code",
   "execution_count": 4,
   "metadata": {},
   "outputs": [
    {
     "name": "stdout",
     "output_type": "stream",
     "text": [
      "--2020-10-19 20:45:37--  https://ndownloader.figshare.com/files/7038038\n",
      "Resolving ndownloader.figshare.com (ndownloader.figshare.com)... 54.77.6.92, 34.250.140.125, 52.19.91.162, ...\n",
      "Connecting to ndownloader.figshare.com (ndownloader.figshare.com)|54.77.6.92|:443... connected.\n",
      "HTTP request sent, awaiting response... 302 Found\n",
      "Location: https://s3-eu-west-1.amazonaws.com/pfigshare-u-files/7038038/aggression_annotated_comments.tsv [following]\n",
      "--2020-10-19 20:45:37--  https://s3-eu-west-1.amazonaws.com/pfigshare-u-files/7038038/aggression_annotated_comments.tsv\n",
      "Resolving s3-eu-west-1.amazonaws.com (s3-eu-west-1.amazonaws.com)... 52.218.105.130\n",
      "Connecting to s3-eu-west-1.amazonaws.com (s3-eu-west-1.amazonaws.com)|52.218.105.130|:443... connected.\n",
      "HTTP request sent, awaiting response... 200 OK\n",
      "Length: 58090178 (55M) [binary/octet-stream]\n",
      "Saving to: ‘aggression_annotated_comments.tsv’\n",
      "\n",
      "aggression_annotate 100%[===================>]  55.40M  14.8MB/s    in 3.7s    \n",
      "\n",
      "2020-10-19 20:45:42 (14.8 MB/s) - ‘aggression_annotated_comments.tsv’ saved [58090178/58090178]\n",
      "\n"
     ]
    }
   ],
   "source": [
    "!wget https://ndownloader.figshare.com/files/7038038 -O aggression_annotated_comments.tsv"
   ]
  },
  {
   "cell_type": "code",
   "execution_count": 5,
   "metadata": {},
   "outputs": [
    {
     "name": "stdout",
     "output_type": "stream",
     "text": [
      "--2020-10-19 20:45:44--  https://ndownloader.figshare.com/files/7394506\n",
      "Resolving ndownloader.figshare.com (ndownloader.figshare.com)... 54.77.6.92, 34.250.140.125, 52.19.91.162, ...\n",
      "Connecting to ndownloader.figshare.com (ndownloader.figshare.com)|54.77.6.92|:443... connected.\n",
      "HTTP request sent, awaiting response... 302 Found\n",
      "Location: https://s3-eu-west-1.amazonaws.com/pfigshare-u-files/7394506/aggression_annotations.tsv [following]\n",
      "--2020-10-19 20:45:45--  https://s3-eu-west-1.amazonaws.com/pfigshare-u-files/7394506/aggression_annotations.tsv\n",
      "Resolving s3-eu-west-1.amazonaws.com (s3-eu-west-1.amazonaws.com)... 52.218.112.171\n",
      "Connecting to s3-eu-west-1.amazonaws.com (s3-eu-west-1.amazonaws.com)|52.218.112.171|:443... connected.\n",
      "HTTP request sent, awaiting response... 200 OK\n",
      "Length: 30627328 (29M) [binary/octet-stream]\n",
      "Saving to: ‘aggression_annotations.tsv’\n",
      "\n",
      "aggression_annotati 100%[===================>]  29.21M  12.3MB/s    in 2.4s    \n",
      "\n",
      "2020-10-19 20:45:48 (12.3 MB/s) - ‘aggression_annotations.tsv’ saved [30627328/30627328]\n",
      "\n"
     ]
    }
   ],
   "source": [
    "!wget https://ndownloader.figshare.com/files/7394506 -O aggression_annotations.tsv"
   ]
  },
  {
   "cell_type": "code",
   "execution_count": 6,
   "metadata": {},
   "outputs": [
    {
     "name": "stdout",
     "output_type": "stream",
     "text": [
      "--2020-10-19 20:45:51--  https://ndownloader.figshare.com/files/7640644\n",
      "Resolving ndownloader.figshare.com (ndownloader.figshare.com)... 54.77.6.92, 34.250.140.125, 52.19.91.162, ...\n",
      "Connecting to ndownloader.figshare.com (ndownloader.figshare.com)|54.77.6.92|:443... connected.\n",
      "HTTP request sent, awaiting response... 302 Found\n",
      "Location: https://s3-eu-west-1.amazonaws.com/pfigshare-u-files/7640644/aggression_worker_demographics.tsv [following]\n",
      "--2020-10-19 20:45:51--  https://s3-eu-west-1.amazonaws.com/pfigshare-u-files/7640644/aggression_worker_demographics.tsv\n",
      "Resolving s3-eu-west-1.amazonaws.com (s3-eu-west-1.amazonaws.com)... 52.218.41.19\n",
      "Connecting to s3-eu-west-1.amazonaws.com (s3-eu-west-1.amazonaws.com)|52.218.41.19|:443... connected.\n",
      "HTTP request sent, awaiting response... 200 OK\n",
      "Length: 57649 (56K) [binary/octet-stream]\n",
      "Saving to: ‘aggression_worker_demographics.tsv’\n",
      "\n",
      "aggression_worker_d 100%[===================>]  56.30K   205KB/s    in 0.3s    \n",
      "\n",
      "2020-10-19 20:45:52 (205 KB/s) - ‘aggression_worker_demographics.tsv’ saved [57649/57649]\n",
      "\n"
     ]
    }
   ],
   "source": [
    "!wget https://ndownloader.figshare.com/files/7640644 -O aggression_worker_demographics.tsv"
   ]
  },
  {
   "cell_type": "markdown",
   "metadata": {},
   "source": [
    "## Create pandas dataframes using the raw data downloaded from Figshare"
   ]
  },
  {
   "cell_type": "code",
   "execution_count": 3,
   "metadata": {},
   "outputs": [],
   "source": [
    "import pandas as pd\n",
    "from scipy.stats import ttest_ind\n",
    "import seaborn as sns\n",
    "import numpy as np\n",
    "import matplotlib.pyplot as plt"
   ]
  },
  {
   "cell_type": "code",
   "execution_count": 4,
   "metadata": {},
   "outputs": [],
   "source": [
    "df_aggression_annotated_comments = pd.read_csv(\"aggression_annotated_comments.tsv\",sep='\\t')\n",
    "df_aggression_annotations = pd.read_csv(\"aggression_annotations.tsv\",sep='\\t')\n",
    "df_aggression_worker_demographics = pd.read_csv(\"aggression_worker_demographics.tsv\",sep='\\t')\n",
    "\n",
    "df_toxicity_annotated_comments = pd.read_csv(\"toxicity_annotated_comments.tsv\",sep='\\t')\n",
    "df_toxicity_annotations = pd.read_csv(\"toxicity_annotations.tsv\",sep='\\t')\n",
    "df_toxicity_worker_demographics = pd.read_csv(\"toxicity_worker_demographics.tsv\",sep='\\t')"
   ]
  },
  {
   "cell_type": "code",
   "execution_count": 5,
   "metadata": {},
   "outputs": [],
   "source": [
    "# Save raw data as csv\n",
    "df_aggression_annotated_comments.to_csv(\"aggression_annotated_comments.csv\")\n",
    "df_aggression_annotations.to_csv(\"aggression_annotations.csv\")\n",
    "df_aggression_worker_demographics.to_csv(\"aggression_worker_demographics.csv\")\n",
    "\n",
    "df_toxicity_annotated_comments.to_csv(\"toxicity_annotated_comments.csv\")\n",
    "df_toxicity_annotations.to_csv(\"toxicity_annotations.csv\")\n",
    "df_toxicity_worker_demographics.to_csv(\"toxicity_worker_demographics.csv\")"
   ]
  },
  {
   "cell_type": "markdown",
   "metadata": {},
   "source": [
    "## Explore the data"
   ]
  },
  {
   "cell_type": "markdown",
   "metadata": {},
   "source": [
    "### Inspect the aggression dataset\n",
    "During the inspection step, the goal is to gain understanding of what information each dataframe contains. To achieve the goal, the pd.head() method is used to display the top 5 rows of each dataframe. Grouping functions are used to learn more about the aggression score and labeler demographics distributions. "
   ]
  },
  {
   "cell_type": "code",
   "execution_count": 6,
   "metadata": {},
   "outputs": [
    {
     "data": {
      "text/html": [
       "<div>\n",
       "<style scoped>\n",
       "    .dataframe tbody tr th:only-of-type {\n",
       "        vertical-align: middle;\n",
       "    }\n",
       "\n",
       "    .dataframe tbody tr th {\n",
       "        vertical-align: top;\n",
       "    }\n",
       "\n",
       "    .dataframe thead th {\n",
       "        text-align: right;\n",
       "    }\n",
       "</style>\n",
       "<table border=\"1\" class=\"dataframe\">\n",
       "  <thead>\n",
       "    <tr style=\"text-align: right;\">\n",
       "      <th></th>\n",
       "      <th>rev_id</th>\n",
       "      <th>comment</th>\n",
       "      <th>year</th>\n",
       "      <th>logged_in</th>\n",
       "      <th>ns</th>\n",
       "      <th>sample</th>\n",
       "      <th>split</th>\n",
       "    </tr>\n",
       "  </thead>\n",
       "  <tbody>\n",
       "    <tr>\n",
       "      <th>0</th>\n",
       "      <td>37675</td>\n",
       "      <td>`-NEWLINE_TOKENThis is not ``creative``.  Thos...</td>\n",
       "      <td>2002</td>\n",
       "      <td>True</td>\n",
       "      <td>article</td>\n",
       "      <td>random</td>\n",
       "      <td>train</td>\n",
       "    </tr>\n",
       "    <tr>\n",
       "      <th>1</th>\n",
       "      <td>44816</td>\n",
       "      <td>`NEWLINE_TOKENNEWLINE_TOKEN:: the term ``stand...</td>\n",
       "      <td>2002</td>\n",
       "      <td>True</td>\n",
       "      <td>article</td>\n",
       "      <td>random</td>\n",
       "      <td>train</td>\n",
       "    </tr>\n",
       "    <tr>\n",
       "      <th>2</th>\n",
       "      <td>49851</td>\n",
       "      <td>NEWLINE_TOKENNEWLINE_TOKENTrue or false, the s...</td>\n",
       "      <td>2002</td>\n",
       "      <td>True</td>\n",
       "      <td>article</td>\n",
       "      <td>random</td>\n",
       "      <td>train</td>\n",
       "    </tr>\n",
       "    <tr>\n",
       "      <th>3</th>\n",
       "      <td>89320</td>\n",
       "      <td>Next, maybe you could work on being less cond...</td>\n",
       "      <td>2002</td>\n",
       "      <td>True</td>\n",
       "      <td>article</td>\n",
       "      <td>random</td>\n",
       "      <td>dev</td>\n",
       "    </tr>\n",
       "    <tr>\n",
       "      <th>4</th>\n",
       "      <td>93890</td>\n",
       "      <td>This page will need disambiguation.</td>\n",
       "      <td>2002</td>\n",
       "      <td>True</td>\n",
       "      <td>article</td>\n",
       "      <td>random</td>\n",
       "      <td>train</td>\n",
       "    </tr>\n",
       "  </tbody>\n",
       "</table>\n",
       "</div>"
      ],
      "text/plain": [
       "   rev_id                                            comment  year  logged_in  \\\n",
       "0   37675  `-NEWLINE_TOKENThis is not ``creative``.  Thos...  2002       True   \n",
       "1   44816  `NEWLINE_TOKENNEWLINE_TOKEN:: the term ``stand...  2002       True   \n",
       "2   49851  NEWLINE_TOKENNEWLINE_TOKENTrue or false, the s...  2002       True   \n",
       "3   89320   Next, maybe you could work on being less cond...  2002       True   \n",
       "4   93890               This page will need disambiguation.   2002       True   \n",
       "\n",
       "        ns  sample  split  \n",
       "0  article  random  train  \n",
       "1  article  random  train  \n",
       "2  article  random  train  \n",
       "3  article  random    dev  \n",
       "4  article  random  train  "
      ]
     },
     "execution_count": 6,
     "metadata": {},
     "output_type": "execute_result"
    }
   ],
   "source": [
    "df_aggression_annotated_comments.head()"
   ]
  },
  {
   "cell_type": "code",
   "execution_count": 7,
   "metadata": {},
   "outputs": [
    {
     "data": {
      "text/html": [
       "<div>\n",
       "<style scoped>\n",
       "    .dataframe tbody tr th:only-of-type {\n",
       "        vertical-align: middle;\n",
       "    }\n",
       "\n",
       "    .dataframe tbody tr th {\n",
       "        vertical-align: top;\n",
       "    }\n",
       "\n",
       "    .dataframe thead th {\n",
       "        text-align: right;\n",
       "    }\n",
       "</style>\n",
       "<table border=\"1\" class=\"dataframe\">\n",
       "  <thead>\n",
       "    <tr style=\"text-align: right;\">\n",
       "      <th></th>\n",
       "      <th>rev_id</th>\n",
       "      <th>worker_id</th>\n",
       "      <th>aggression</th>\n",
       "      <th>aggression_score</th>\n",
       "    </tr>\n",
       "  </thead>\n",
       "  <tbody>\n",
       "    <tr>\n",
       "      <th>0</th>\n",
       "      <td>37675</td>\n",
       "      <td>1362</td>\n",
       "      <td>1.0</td>\n",
       "      <td>-1.0</td>\n",
       "    </tr>\n",
       "    <tr>\n",
       "      <th>1</th>\n",
       "      <td>37675</td>\n",
       "      <td>2408</td>\n",
       "      <td>0.0</td>\n",
       "      <td>1.0</td>\n",
       "    </tr>\n",
       "    <tr>\n",
       "      <th>2</th>\n",
       "      <td>37675</td>\n",
       "      <td>1493</td>\n",
       "      <td>0.0</td>\n",
       "      <td>0.0</td>\n",
       "    </tr>\n",
       "    <tr>\n",
       "      <th>3</th>\n",
       "      <td>37675</td>\n",
       "      <td>1439</td>\n",
       "      <td>0.0</td>\n",
       "      <td>0.0</td>\n",
       "    </tr>\n",
       "    <tr>\n",
       "      <th>4</th>\n",
       "      <td>37675</td>\n",
       "      <td>170</td>\n",
       "      <td>0.0</td>\n",
       "      <td>0.0</td>\n",
       "    </tr>\n",
       "  </tbody>\n",
       "</table>\n",
       "</div>"
      ],
      "text/plain": [
       "   rev_id  worker_id  aggression  aggression_score\n",
       "0   37675       1362         1.0              -1.0\n",
       "1   37675       2408         0.0               1.0\n",
       "2   37675       1493         0.0               0.0\n",
       "3   37675       1439         0.0               0.0\n",
       "4   37675        170         0.0               0.0"
      ]
     },
     "execution_count": 7,
     "metadata": {},
     "output_type": "execute_result"
    }
   ],
   "source": [
    "df_aggression_annotations.head()"
   ]
  },
  {
   "cell_type": "markdown",
   "metadata": {},
   "source": [
    "By grouping the aggression score, we can see that the majority of the comments were labeled as neutral. Score definition: very aggressive (-3), to neutral (0), to very friendly (3)"
   ]
  },
  {
   "cell_type": "code",
   "execution_count": 8,
   "metadata": {},
   "outputs": [
    {
     "data": {
      "text/plain": [
       " 0.0    997369\n",
       "-1.0    126432\n",
       " 1.0     81408\n",
       "-3.0     65198\n",
       "-2.0     58233\n",
       " 2.0     26031\n",
       " 3.0     10546\n",
       "Name: aggression_score, dtype: int64"
      ]
     },
     "execution_count": 8,
     "metadata": {},
     "output_type": "execute_result"
    }
   ],
   "source": [
    "df_aggression_annotations['aggression_score'].value_counts()"
   ]
  },
  {
   "cell_type": "code",
   "execution_count": 9,
   "metadata": {},
   "outputs": [
    {
     "data": {
      "text/html": [
       "<div>\n",
       "<style scoped>\n",
       "    .dataframe tbody tr th:only-of-type {\n",
       "        vertical-align: middle;\n",
       "    }\n",
       "\n",
       "    .dataframe tbody tr th {\n",
       "        vertical-align: top;\n",
       "    }\n",
       "\n",
       "    .dataframe thead th {\n",
       "        text-align: right;\n",
       "    }\n",
       "</style>\n",
       "<table border=\"1\" class=\"dataframe\">\n",
       "  <thead>\n",
       "    <tr style=\"text-align: right;\">\n",
       "      <th></th>\n",
       "      <th>worker_id</th>\n",
       "      <th>gender</th>\n",
       "      <th>english_first_language</th>\n",
       "      <th>age_group</th>\n",
       "      <th>education</th>\n",
       "    </tr>\n",
       "  </thead>\n",
       "  <tbody>\n",
       "    <tr>\n",
       "      <th>0</th>\n",
       "      <td>833</td>\n",
       "      <td>female</td>\n",
       "      <td>0</td>\n",
       "      <td>45-60</td>\n",
       "      <td>bachelors</td>\n",
       "    </tr>\n",
       "    <tr>\n",
       "      <th>1</th>\n",
       "      <td>1072</td>\n",
       "      <td>male</td>\n",
       "      <td>0</td>\n",
       "      <td>30-45</td>\n",
       "      <td>bachelors</td>\n",
       "    </tr>\n",
       "    <tr>\n",
       "      <th>2</th>\n",
       "      <td>872</td>\n",
       "      <td>male</td>\n",
       "      <td>0</td>\n",
       "      <td>18-30</td>\n",
       "      <td>hs</td>\n",
       "    </tr>\n",
       "    <tr>\n",
       "      <th>3</th>\n",
       "      <td>2116</td>\n",
       "      <td>male</td>\n",
       "      <td>0</td>\n",
       "      <td>30-45</td>\n",
       "      <td>professional</td>\n",
       "    </tr>\n",
       "    <tr>\n",
       "      <th>4</th>\n",
       "      <td>453</td>\n",
       "      <td>male</td>\n",
       "      <td>0</td>\n",
       "      <td>30-45</td>\n",
       "      <td>hs</td>\n",
       "    </tr>\n",
       "  </tbody>\n",
       "</table>\n",
       "</div>"
      ],
      "text/plain": [
       "   worker_id  gender  english_first_language age_group     education\n",
       "0        833  female                       0     45-60     bachelors\n",
       "1       1072    male                       0     30-45     bachelors\n",
       "2        872    male                       0     18-30            hs\n",
       "3       2116    male                       0     30-45  professional\n",
       "4        453    male                       0     30-45            hs"
      ]
     },
     "execution_count": 9,
     "metadata": {},
     "output_type": "execute_result"
    }
   ],
   "source": [
    "df_aggression_worker_demographics.head()"
   ]
  },
  {
   "cell_type": "markdown",
   "metadata": {},
   "source": [
    "The distribution of genders of labelers is not balanced since male:female = 1.6:1."
   ]
  },
  {
   "cell_type": "code",
   "execution_count": 10,
   "metadata": {},
   "outputs": [
    {
     "data": {
      "text/plain": [
       "male      1349\n",
       "female     840\n",
       "other        1\n",
       "Name: gender, dtype: int64"
      ]
     },
     "execution_count": 10,
     "metadata": {},
     "output_type": "execute_result"
    }
   ],
   "source": [
    "df_aggression_worker_demographics['gender'].value_counts()"
   ]
  },
  {
   "cell_type": "markdown",
   "metadata": {},
   "source": [
    "The majority of the labelers do not speak English as their first language though the labeling is for English Wikipeida."
   ]
  },
  {
   "cell_type": "code",
   "execution_count": 11,
   "metadata": {},
   "outputs": [
    {
     "data": {
      "text/plain": [
       "0    1788\n",
       "1     402\n",
       "Name: english_first_language, dtype: int64"
      ]
     },
     "execution_count": 11,
     "metadata": {},
     "output_type": "execute_result"
    }
   ],
   "source": [
    "df_aggression_worker_demographics['english_first_language'].value_counts()"
   ]
  },
  {
   "cell_type": "markdown",
   "metadata": {},
   "source": [
    "The majority of the labels are between the age of 18 and 60."
   ]
  },
  {
   "cell_type": "code",
   "execution_count": 12,
   "metadata": {},
   "outputs": [
    {
     "data": {
      "text/plain": [
       "18-30       1049\n",
       "30-45        831\n",
       "45-60        218\n",
       "Under 18      37\n",
       "Over 60       20\n",
       "Name: age_group, dtype: int64"
      ]
     },
     "execution_count": 12,
     "metadata": {},
     "output_type": "execute_result"
    }
   ],
   "source": [
    "df_aggression_worker_demographics['age_group'].value_counts()"
   ]
  },
  {
   "cell_type": "markdown",
   "metadata": {},
   "source": [
    "The majority of the lables have received at least high school education."
   ]
  },
  {
   "cell_type": "code",
   "execution_count": 13,
   "metadata": {},
   "outputs": [
    {
     "data": {
      "text/plain": [
       "bachelors       862\n",
       "hs              631\n",
       "masters         385\n",
       "professional    243\n",
       "some             48\n",
       "doctorate        20\n",
       "none              1\n",
       "Name: education, dtype: int64"
      ]
     },
     "execution_count": 13,
     "metadata": {},
     "output_type": "execute_result"
    }
   ],
   "source": [
    "df_aggression_worker_demographics['education'].value_counts()"
   ]
  },
  {
   "cell_type": "markdown",
   "metadata": {},
   "source": [
    "### Inspect the toxicity dataset\n",
    "Similar to the aggression dataset, the pd.head() method is used to display the top 5 rows of each dataframe. Grouping functions are used to learn more about the toxicity score and labeler demographics distributions. "
   ]
  },
  {
   "cell_type": "code",
   "execution_count": 14,
   "metadata": {},
   "outputs": [
    {
     "data": {
      "text/html": [
       "<div>\n",
       "<style scoped>\n",
       "    .dataframe tbody tr th:only-of-type {\n",
       "        vertical-align: middle;\n",
       "    }\n",
       "\n",
       "    .dataframe tbody tr th {\n",
       "        vertical-align: top;\n",
       "    }\n",
       "\n",
       "    .dataframe thead th {\n",
       "        text-align: right;\n",
       "    }\n",
       "</style>\n",
       "<table border=\"1\" class=\"dataframe\">\n",
       "  <thead>\n",
       "    <tr style=\"text-align: right;\">\n",
       "      <th></th>\n",
       "      <th>rev_id</th>\n",
       "      <th>comment</th>\n",
       "      <th>year</th>\n",
       "      <th>logged_in</th>\n",
       "      <th>ns</th>\n",
       "      <th>sample</th>\n",
       "      <th>split</th>\n",
       "    </tr>\n",
       "  </thead>\n",
       "  <tbody>\n",
       "    <tr>\n",
       "      <th>0</th>\n",
       "      <td>2232.0</td>\n",
       "      <td>This:NEWLINE_TOKEN:One can make an analogy in ...</td>\n",
       "      <td>2002</td>\n",
       "      <td>True</td>\n",
       "      <td>article</td>\n",
       "      <td>random</td>\n",
       "      <td>train</td>\n",
       "    </tr>\n",
       "    <tr>\n",
       "      <th>1</th>\n",
       "      <td>4216.0</td>\n",
       "      <td>`NEWLINE_TOKENNEWLINE_TOKEN:Clarification for ...</td>\n",
       "      <td>2002</td>\n",
       "      <td>True</td>\n",
       "      <td>user</td>\n",
       "      <td>random</td>\n",
       "      <td>train</td>\n",
       "    </tr>\n",
       "    <tr>\n",
       "      <th>2</th>\n",
       "      <td>8953.0</td>\n",
       "      <td>Elected or Electoral? JHK</td>\n",
       "      <td>2002</td>\n",
       "      <td>False</td>\n",
       "      <td>article</td>\n",
       "      <td>random</td>\n",
       "      <td>test</td>\n",
       "    </tr>\n",
       "    <tr>\n",
       "      <th>3</th>\n",
       "      <td>26547.0</td>\n",
       "      <td>`This is such a fun entry.   DevotchkaNEWLINE_...</td>\n",
       "      <td>2002</td>\n",
       "      <td>True</td>\n",
       "      <td>article</td>\n",
       "      <td>random</td>\n",
       "      <td>train</td>\n",
       "    </tr>\n",
       "    <tr>\n",
       "      <th>4</th>\n",
       "      <td>28959.0</td>\n",
       "      <td>Please relate the ozone hole to increases in c...</td>\n",
       "      <td>2002</td>\n",
       "      <td>True</td>\n",
       "      <td>article</td>\n",
       "      <td>random</td>\n",
       "      <td>test</td>\n",
       "    </tr>\n",
       "  </tbody>\n",
       "</table>\n",
       "</div>"
      ],
      "text/plain": [
       "    rev_id                                            comment  year  \\\n",
       "0   2232.0  This:NEWLINE_TOKEN:One can make an analogy in ...  2002   \n",
       "1   4216.0  `NEWLINE_TOKENNEWLINE_TOKEN:Clarification for ...  2002   \n",
       "2   8953.0                          Elected or Electoral? JHK  2002   \n",
       "3  26547.0  `This is such a fun entry.   DevotchkaNEWLINE_...  2002   \n",
       "4  28959.0  Please relate the ozone hole to increases in c...  2002   \n",
       "\n",
       "   logged_in       ns  sample  split  \n",
       "0       True  article  random  train  \n",
       "1       True     user  random  train  \n",
       "2      False  article  random   test  \n",
       "3       True  article  random  train  \n",
       "4       True  article  random   test  "
      ]
     },
     "execution_count": 14,
     "metadata": {},
     "output_type": "execute_result"
    }
   ],
   "source": [
    "df_toxicity_annotated_comments.head()"
   ]
  },
  {
   "cell_type": "code",
   "execution_count": 15,
   "metadata": {},
   "outputs": [
    {
     "data": {
      "text/html": [
       "<div>\n",
       "<style scoped>\n",
       "    .dataframe tbody tr th:only-of-type {\n",
       "        vertical-align: middle;\n",
       "    }\n",
       "\n",
       "    .dataframe tbody tr th {\n",
       "        vertical-align: top;\n",
       "    }\n",
       "\n",
       "    .dataframe thead th {\n",
       "        text-align: right;\n",
       "    }\n",
       "</style>\n",
       "<table border=\"1\" class=\"dataframe\">\n",
       "  <thead>\n",
       "    <tr style=\"text-align: right;\">\n",
       "      <th></th>\n",
       "      <th>rev_id</th>\n",
       "      <th>worker_id</th>\n",
       "      <th>toxicity</th>\n",
       "      <th>toxicity_score</th>\n",
       "    </tr>\n",
       "  </thead>\n",
       "  <tbody>\n",
       "    <tr>\n",
       "      <th>0</th>\n",
       "      <td>2232.0</td>\n",
       "      <td>723</td>\n",
       "      <td>0</td>\n",
       "      <td>0.0</td>\n",
       "    </tr>\n",
       "    <tr>\n",
       "      <th>1</th>\n",
       "      <td>2232.0</td>\n",
       "      <td>4000</td>\n",
       "      <td>0</td>\n",
       "      <td>0.0</td>\n",
       "    </tr>\n",
       "    <tr>\n",
       "      <th>2</th>\n",
       "      <td>2232.0</td>\n",
       "      <td>3989</td>\n",
       "      <td>0</td>\n",
       "      <td>1.0</td>\n",
       "    </tr>\n",
       "    <tr>\n",
       "      <th>3</th>\n",
       "      <td>2232.0</td>\n",
       "      <td>3341</td>\n",
       "      <td>0</td>\n",
       "      <td>0.0</td>\n",
       "    </tr>\n",
       "    <tr>\n",
       "      <th>4</th>\n",
       "      <td>2232.0</td>\n",
       "      <td>1574</td>\n",
       "      <td>0</td>\n",
       "      <td>1.0</td>\n",
       "    </tr>\n",
       "  </tbody>\n",
       "</table>\n",
       "</div>"
      ],
      "text/plain": [
       "   rev_id  worker_id  toxicity  toxicity_score\n",
       "0  2232.0        723         0             0.0\n",
       "1  2232.0       4000         0             0.0\n",
       "2  2232.0       3989         0             1.0\n",
       "3  2232.0       3341         0             0.0\n",
       "4  2232.0       1574         0             1.0"
      ]
     },
     "execution_count": 15,
     "metadata": {},
     "output_type": "execute_result"
    }
   ],
   "source": [
    "df_toxicity_annotations.head()"
   ]
  },
  {
   "cell_type": "markdown",
   "metadata": {},
   "source": [
    "By grouping the toxicity score, we can see that the majority of the comments were labeled as neutral. Score definition: very toxic (-2), to neutral (0), to very healthy (2)."
   ]
  },
  {
   "cell_type": "code",
   "execution_count": 16,
   "metadata": {},
   "outputs": [
    {
     "data": {
      "text/plain": [
       " 0.0    786695\n",
       " 1.0    557510\n",
       "-1.0    190069\n",
       "-2.0     41986\n",
       " 2.0     22029\n",
       "Name: toxicity_score, dtype: int64"
      ]
     },
     "execution_count": 16,
     "metadata": {},
     "output_type": "execute_result"
    }
   ],
   "source": [
    "df_toxicity_annotations['toxicity_score'].value_counts()"
   ]
  },
  {
   "cell_type": "code",
   "execution_count": 17,
   "metadata": {},
   "outputs": [
    {
     "data": {
      "text/html": [
       "<div>\n",
       "<style scoped>\n",
       "    .dataframe tbody tr th:only-of-type {\n",
       "        vertical-align: middle;\n",
       "    }\n",
       "\n",
       "    .dataframe tbody tr th {\n",
       "        vertical-align: top;\n",
       "    }\n",
       "\n",
       "    .dataframe thead th {\n",
       "        text-align: right;\n",
       "    }\n",
       "</style>\n",
       "<table border=\"1\" class=\"dataframe\">\n",
       "  <thead>\n",
       "    <tr style=\"text-align: right;\">\n",
       "      <th></th>\n",
       "      <th>worker_id</th>\n",
       "      <th>gender</th>\n",
       "      <th>english_first_language</th>\n",
       "      <th>age_group</th>\n",
       "      <th>education</th>\n",
       "    </tr>\n",
       "  </thead>\n",
       "  <tbody>\n",
       "    <tr>\n",
       "      <th>0</th>\n",
       "      <td>85</td>\n",
       "      <td>female</td>\n",
       "      <td>0</td>\n",
       "      <td>18-30</td>\n",
       "      <td>bachelors</td>\n",
       "    </tr>\n",
       "    <tr>\n",
       "      <th>1</th>\n",
       "      <td>1617</td>\n",
       "      <td>female</td>\n",
       "      <td>0</td>\n",
       "      <td>45-60</td>\n",
       "      <td>bachelors</td>\n",
       "    </tr>\n",
       "    <tr>\n",
       "      <th>2</th>\n",
       "      <td>1394</td>\n",
       "      <td>female</td>\n",
       "      <td>0</td>\n",
       "      <td>NaN</td>\n",
       "      <td>bachelors</td>\n",
       "    </tr>\n",
       "    <tr>\n",
       "      <th>3</th>\n",
       "      <td>311</td>\n",
       "      <td>male</td>\n",
       "      <td>0</td>\n",
       "      <td>30-45</td>\n",
       "      <td>bachelors</td>\n",
       "    </tr>\n",
       "    <tr>\n",
       "      <th>4</th>\n",
       "      <td>1980</td>\n",
       "      <td>male</td>\n",
       "      <td>0</td>\n",
       "      <td>45-60</td>\n",
       "      <td>masters</td>\n",
       "    </tr>\n",
       "  </tbody>\n",
       "</table>\n",
       "</div>"
      ],
      "text/plain": [
       "   worker_id  gender  english_first_language age_group  education\n",
       "0         85  female                       0     18-30  bachelors\n",
       "1       1617  female                       0     45-60  bachelors\n",
       "2       1394  female                       0       NaN  bachelors\n",
       "3        311    male                       0     30-45  bachelors\n",
       "4       1980    male                       0     45-60    masters"
      ]
     },
     "execution_count": 17,
     "metadata": {},
     "output_type": "execute_result"
    }
   ],
   "source": [
    "df_toxicity_worker_demographics.head()"
   ]
  },
  {
   "cell_type": "markdown",
   "metadata": {},
   "source": [
    "The distribution of genders of labelers is not balanced since male:female = 1.8:1"
   ]
  },
  {
   "cell_type": "code",
   "execution_count": 18,
   "metadata": {},
   "outputs": [
    {
     "data": {
      "text/plain": [
       "male      2327\n",
       "female    1263\n",
       "other        1\n",
       "Name: gender, dtype: int64"
      ]
     },
     "execution_count": 18,
     "metadata": {},
     "output_type": "execute_result"
    }
   ],
   "source": [
    "df_toxicity_worker_demographics['gender'].value_counts()"
   ]
  },
  {
   "cell_type": "markdown",
   "metadata": {},
   "source": [
    "The majority of the labelers do not speak English as their first language though the labeling is for English Wikipeida."
   ]
  },
  {
   "cell_type": "code",
   "execution_count": 19,
   "metadata": {},
   "outputs": [
    {
     "data": {
      "text/plain": [
       "0    2925\n",
       "1     666\n",
       "Name: english_first_language, dtype: int64"
      ]
     },
     "execution_count": 19,
     "metadata": {},
     "output_type": "execute_result"
    }
   ],
   "source": [
    "df_toxicity_worker_demographics['english_first_language'].value_counts()"
   ]
  },
  {
   "cell_type": "markdown",
   "metadata": {},
   "source": [
    "The majority of the labels are between the age of 18 and 60."
   ]
  },
  {
   "cell_type": "code",
   "execution_count": 20,
   "metadata": {},
   "outputs": [
    {
     "data": {
      "text/plain": [
       "18-30       1862\n",
       "30-45       1247\n",
       "45-60        296\n",
       "Under 18      79\n",
       "Over 60       30\n",
       "Name: age_group, dtype: int64"
      ]
     },
     "execution_count": 20,
     "metadata": {},
     "output_type": "execute_result"
    }
   ],
   "source": [
    "df_toxicity_worker_demographics['age_group'].value_counts()"
   ]
  },
  {
   "cell_type": "markdown",
   "metadata": {},
   "source": [
    "The majority of the lables have received at least high school education."
   ]
  },
  {
   "cell_type": "code",
   "execution_count": 21,
   "metadata": {},
   "outputs": [
    {
     "data": {
      "text/plain": [
       "bachelors       1441\n",
       "hs              1026\n",
       "masters          546\n",
       "professional     441\n",
       "some              93\n",
       "doctorate         41\n",
       "none               3\n",
       "Name: education, dtype: int64"
      ]
     },
     "execution_count": 21,
     "metadata": {},
     "output_type": "execute_result"
    }
   ],
   "source": [
    "df_toxicity_worker_demographics['education'].value_counts()"
   ]
  },
  {
   "cell_type": "markdown",
   "metadata": {},
   "source": [
    "## Analyze the aggression dataset and the toxicity dataset individually"
   ]
  },
  {
   "cell_type": "markdown",
   "metadata": {},
   "source": [
    "### Aggression\n",
    "Analyze the aggression dataset by looking at how likely an annotator would label a comment as aggressive and whether there's any difference based on their demographic information, such as gender, age, and education level."
   ]
  },
  {
   "cell_type": "code",
   "execution_count": 22,
   "metadata": {},
   "outputs": [],
   "source": [
    "# For each annotator, calculate the ratio of comments labeled as 1(positive) for aggression on average. \n",
    "# The ratio is calculated using the number of comments labeled as 1 divide by the total number of comments labeled by any annotator. \n",
    "\n",
    "df_worker_aggression = df_aggression_annotations.groupby('worker_id')['aggression'].value_counts().unstack()\n",
    "df_worker_aggression.reset_index(inplace=True)\n",
    "df_worker_aggression['ratio'] = df_worker_aggression[1.0] / (df_worker_aggression[1.0] + df_worker_aggression[0.0])"
   ]
  },
  {
   "cell_type": "code",
   "execution_count": 23,
   "metadata": {},
   "outputs": [
    {
     "data": {
      "text/html": [
       "<div>\n",
       "<style scoped>\n",
       "    .dataframe tbody tr th:only-of-type {\n",
       "        vertical-align: middle;\n",
       "    }\n",
       "\n",
       "    .dataframe tbody tr th {\n",
       "        vertical-align: top;\n",
       "    }\n",
       "\n",
       "    .dataframe thead th {\n",
       "        text-align: right;\n",
       "    }\n",
       "</style>\n",
       "<table border=\"1\" class=\"dataframe\">\n",
       "  <thead>\n",
       "    <tr style=\"text-align: right;\">\n",
       "      <th>aggression</th>\n",
       "      <th>worker_id</th>\n",
       "      <th>0.0</th>\n",
       "      <th>1.0</th>\n",
       "      <th>ratio</th>\n",
       "    </tr>\n",
       "  </thead>\n",
       "  <tbody>\n",
       "    <tr>\n",
       "      <th>0</th>\n",
       "      <td>0</td>\n",
       "      <td>661.0</td>\n",
       "      <td>362.0</td>\n",
       "      <td>0.353861</td>\n",
       "    </tr>\n",
       "    <tr>\n",
       "      <th>1</th>\n",
       "      <td>1</td>\n",
       "      <td>722.0</td>\n",
       "      <td>92.0</td>\n",
       "      <td>0.113022</td>\n",
       "    </tr>\n",
       "    <tr>\n",
       "      <th>2</th>\n",
       "      <td>2</td>\n",
       "      <td>412.0</td>\n",
       "      <td>38.0</td>\n",
       "      <td>0.084444</td>\n",
       "    </tr>\n",
       "    <tr>\n",
       "      <th>3</th>\n",
       "      <td>3</td>\n",
       "      <td>944.0</td>\n",
       "      <td>91.0</td>\n",
       "      <td>0.087923</td>\n",
       "    </tr>\n",
       "    <tr>\n",
       "      <th>4</th>\n",
       "      <td>4</td>\n",
       "      <td>810.0</td>\n",
       "      <td>124.0</td>\n",
       "      <td>0.132762</td>\n",
       "    </tr>\n",
       "  </tbody>\n",
       "</table>\n",
       "</div>"
      ],
      "text/plain": [
       "aggression  worker_id    0.0    1.0     ratio\n",
       "0                   0  661.0  362.0  0.353861\n",
       "1                   1  722.0   92.0  0.113022\n",
       "2                   2  412.0   38.0  0.084444\n",
       "3                   3  944.0   91.0  0.087923\n",
       "4                   4  810.0  124.0  0.132762"
      ]
     },
     "execution_count": 23,
     "metadata": {},
     "output_type": "execute_result"
    }
   ],
   "source": [
    "df_worker_aggression.head()"
   ]
  },
  {
   "cell_type": "code",
   "execution_count": 24,
   "metadata": {},
   "outputs": [],
   "source": [
    "# Join the dataframe with each annotator's labeling counts and ratio with their demographic information\n",
    "\n",
    "df_aggression_worker_annotation = pd.merge(df_aggression_worker_demographics,df_worker_aggression[['worker_id','ratio']],on='worker_id', how='left')"
   ]
  },
  {
   "cell_type": "code",
   "execution_count": 25,
   "metadata": {},
   "outputs": [
    {
     "data": {
      "text/html": [
       "<div>\n",
       "<style scoped>\n",
       "    .dataframe tbody tr th:only-of-type {\n",
       "        vertical-align: middle;\n",
       "    }\n",
       "\n",
       "    .dataframe tbody tr th {\n",
       "        vertical-align: top;\n",
       "    }\n",
       "\n",
       "    .dataframe thead th {\n",
       "        text-align: right;\n",
       "    }\n",
       "</style>\n",
       "<table border=\"1\" class=\"dataframe\">\n",
       "  <thead>\n",
       "    <tr style=\"text-align: right;\">\n",
       "      <th></th>\n",
       "      <th>worker_id</th>\n",
       "      <th>gender</th>\n",
       "      <th>english_first_language</th>\n",
       "      <th>age_group</th>\n",
       "      <th>education</th>\n",
       "      <th>ratio</th>\n",
       "    </tr>\n",
       "  </thead>\n",
       "  <tbody>\n",
       "    <tr>\n",
       "      <th>0</th>\n",
       "      <td>833</td>\n",
       "      <td>female</td>\n",
       "      <td>0</td>\n",
       "      <td>45-60</td>\n",
       "      <td>bachelors</td>\n",
       "      <td>0.195026</td>\n",
       "    </tr>\n",
       "    <tr>\n",
       "      <th>1</th>\n",
       "      <td>1072</td>\n",
       "      <td>male</td>\n",
       "      <td>0</td>\n",
       "      <td>30-45</td>\n",
       "      <td>bachelors</td>\n",
       "      <td>0.273118</td>\n",
       "    </tr>\n",
       "    <tr>\n",
       "      <th>2</th>\n",
       "      <td>872</td>\n",
       "      <td>male</td>\n",
       "      <td>0</td>\n",
       "      <td>18-30</td>\n",
       "      <td>hs</td>\n",
       "      <td>0.072993</td>\n",
       "    </tr>\n",
       "    <tr>\n",
       "      <th>3</th>\n",
       "      <td>2116</td>\n",
       "      <td>male</td>\n",
       "      <td>0</td>\n",
       "      <td>30-45</td>\n",
       "      <td>professional</td>\n",
       "      <td>0.285714</td>\n",
       "    </tr>\n",
       "    <tr>\n",
       "      <th>4</th>\n",
       "      <td>453</td>\n",
       "      <td>male</td>\n",
       "      <td>0</td>\n",
       "      <td>30-45</td>\n",
       "      <td>hs</td>\n",
       "      <td>0.184564</td>\n",
       "    </tr>\n",
       "  </tbody>\n",
       "</table>\n",
       "</div>"
      ],
      "text/plain": [
       "   worker_id  gender  english_first_language age_group     education     ratio\n",
       "0        833  female                       0     45-60     bachelors  0.195026\n",
       "1       1072    male                       0     30-45     bachelors  0.273118\n",
       "2        872    male                       0     18-30            hs  0.072993\n",
       "3       2116    male                       0     30-45  professional  0.285714\n",
       "4        453    male                       0     30-45            hs  0.184564"
      ]
     },
     "execution_count": 25,
     "metadata": {},
     "output_type": "execute_result"
    }
   ],
   "source": [
    "df_aggression_worker_annotation.head()"
   ]
  },
  {
   "cell_type": "code",
   "execution_count": 26,
   "metadata": {},
   "outputs": [],
   "source": [
    "# Save the dataframe with each annotator's labeling counts and ratio with their demographic information as csv\n",
    "df_aggression_worker_annotation.to_csv('aggression_worker_annotation.csv')"
   ]
  },
  {
   "cell_type": "code",
   "execution_count": 27,
   "metadata": {},
   "outputs": [],
   "source": [
    "# Create custom dictionary to order education levels from low to high. This will be used to plotting later.\n",
    "\n",
    "education_level_dict = {'none': 0, 'some': 1, 'hs': 2, 'bachelors': 3, 'masters': 4, 'doctorate': 5, 'professional': 6} "
   ]
  },
  {
   "cell_type": "code",
   "execution_count": 28,
   "metadata": {},
   "outputs": [],
   "source": [
    "# Define seaborn style for plots\n",
    "\n",
    "sns.set(style='whitegrid', rc={\"grid.linewidth\": 0.1})\n",
    "sns.set_context(\"paper\", font_scale=1.5) "
   ]
  },
  {
   "cell_type": "code",
   "execution_count": 29,
   "metadata": {},
   "outputs": [
    {
     "data": {
      "image/png": "[encoded data removed]",
      "text/plain": [
       "<Figure size 216x360 with 1 Axes>"
      ]
     },
     "metadata": {},
     "output_type": "display_data"
    }
   ],
   "source": [
    "# Compare aggression annotation ratios between only male and female (removing the only one labeler marker as 'other' for gender)\n",
    "\n",
    "f1 = sns.catplot(x = 'gender', y=\"ratio\", kind=\"box\", data = df_aggression_worker_annotation[df_aggression_worker_annotation['gender'] != 'other']\n",
    "                 .sort_values(by=['gender']), \n",
    "                 saturation=.8, aspect = .6, ci = None, palette = 'Set3')\n",
    "f1.fig.subplots_adjust(top=0.85)\n",
    "f1.fig.suptitle(\"Aggression annotation ratio, by gender\")\n",
    "f1.fig.savefig(\"Aggression_annotation_ratio_by_gender.png\")"
   ]
  },
  {
   "cell_type": "code",
   "execution_count": 30,
   "metadata": {},
   "outputs": [
    {
     "name": "stdout",
     "output_type": "stream",
     "text": [
      "p value = 0.00038687770755591863\n"
     ]
    }
   ],
   "source": [
    "# Perform Welch's t-test for the means of the label ratios of the female and male labelers\n",
    "\n",
    "male = df_aggression_worker_annotation[df_aggression_worker_annotation['gender']=='male']\n",
    "female = df_aggression_worker_annotation[df_aggression_worker_annotation['gender']=='female']\n",
    "print('p value = ' + str(ttest_ind(male['ratio'], female['ratio'], equal_var=False, nan_policy = 'omit')[1]))"
   ]
  },
  {
   "cell_type": "markdown",
   "metadata": {},
   "source": [
    "According to the result of the Welch's t-test, we can reject the null hypothesis that there's no difference in the labeling ratio between female and male labelers. "
   ]
  },
  {
   "cell_type": "code",
   "execution_count": 31,
   "metadata": {},
   "outputs": [
    {
     "data": {
      "image/png": "[encoded data removed]",
      "text/plain": [
       "<Figure size 900x360 with 5 Axes>"
      ]
     },
     "metadata": {},
     "output_type": "display_data"
    }
   ],
   "source": [
    "# Compare aggression annotation ratios among age groups\n",
    "\n",
    "f2 = sns.catplot(x = 'gender', y=\"ratio\", col=\"age_group\", kind=\"box\", order = ['female','male'], \n",
    "                 data = df_aggression_worker_annotation[df_aggression_worker_annotation['gender'] != 'other']\n",
    "                 .sort_values(by=['gender'])\n",
    "                 .replace('Under 18', '0-18').sort_values(by=['age_group']), \n",
    "                 saturation=.8, aspect = .5, ci = None, palette = 'Set3')\n",
    "f2.fig.subplots_adjust(top=0.85)\n",
    "f2.fig.suptitle(\"Aggression annotation ratio, by age\")\n",
    "f2.set_axis_labels('', 'Ratio').set_titles(\"{col_name}\")\n",
    "f2.fig.savefig(\"Aggression_annotation_ratio_by_age.png\")"
   ]
  },
  {
   "cell_type": "code",
   "execution_count": 32,
   "metadata": {},
   "outputs": [
    {
     "data": {
      "image/png": "[encoded data removed]",
      "text/plain": [
       "<Figure size 1260x360 with 7 Axes>"
      ]
     },
     "metadata": {},
     "output_type": "display_data"
    }
   ],
   "source": [
    "# Compare aggression annotation ratios among different education levels\n",
    "\n",
    "f3 = sns.catplot(x = 'gender', y=\"ratio\", col=\"education\", kind=\"box\", order = ['female','male'], \n",
    "                 data = df_aggression_worker_annotation[df_aggression_worker_annotation['gender'] != 'other']\n",
    "                 .sort_values(by=['education'], key=lambda x: x.map(education_level_dict)), \n",
    "                 saturation=.8, aspect = .5, ci = None, palette = 'Set3')\n",
    "f3.fig.subplots_adjust(top=0.85)\n",
    "f3.fig.suptitle(\"Aggression annotation ratio, by education\")\n",
    "f3.set_axis_labels('', 'Ratio').set_titles(\"{col_name}\")\n",
    "f3.fig.savefig(\"Aggression_annotation_ratio_by_education.png\")"
   ]
  },
  {
   "cell_type": "code",
   "execution_count": 33,
   "metadata": {},
   "outputs": [
    {
     "data": {
      "image/png": "[encoded data removed]",
      "text/plain": [
       "<Figure size 432x360 with 2 Axes>"
      ]
     },
     "metadata": {},
     "output_type": "display_data"
    }
   ],
   "source": [
    "# Compare aggression annotation ratios between people who speak English as their first language and people who don't\n",
    "\n",
    "f4 = sns.catplot(x = 'gender', y=\"ratio\", col=\"english_first_language\", kind=\"box\", order = ['female','male'],\n",
    "                 data = df_aggression_worker_annotation[df_aggression_worker_annotation['gender'] != 'other'].replace({0: 'No', 1: 'Yes'}), \n",
    "                 saturation=.8, aspect = .6, ci = None, palette = 'Set3')\n",
    "f4.fig.subplots_adjust(top=0.85)\n",
    "f4.fig.suptitle(\"Aggression annotation ratio, by English as native language\")\n",
    "f4.set_axis_labels('', 'Ratio').set_titles(\"{col_name}\")\n",
    "f4.fig.savefig(\"Aggression_annotation_ratio_by_language.png\")"
   ]
  },
  {
   "cell_type": "markdown",
   "metadata": {},
   "source": [
    "#### Result \n",
    "According to the plots, there are inconsistencies in the lableing behavior among annotators with different demographic backgroud for aggression. This inconsistency is especially obvious between female-identified and male-identified labelers. Female-identified labelers on average are more likely to label comments as aggressive than male-identified labelers among all age groups, education levels, and whether if English is their first language. "
   ]
  },
  {
   "cell_type": "markdown",
   "metadata": {},
   "source": [
    "### Toxicity\n",
    "Analyze the tocixity dataset by looking at how likely an annotator would label a comment as toxic and whether there's any difference based on their demographic information, such as gender, age, and education level."
   ]
  },
  {
   "cell_type": "code",
   "execution_count": 34,
   "metadata": {},
   "outputs": [],
   "source": [
    "# For each annotator, calculate the ratio of comments labeled as 1(positive) for aggression on average. \n",
    "# The ratio is calculated using the number of comments labeled as 1 divide by the total number of comments labeled by any annotator. \n",
    "\n",
    "df_worker_toxicity = df_toxicity_annotations.groupby('worker_id')['toxicity'].value_counts().unstack()\n",
    "df_worker_toxicity.reset_index(inplace=True)\n",
    "df_worker_toxicity['ratio'] = df_worker_toxicity[1.0] / (df_worker_toxicity[1.0] + df_worker_toxicity[0.0])"
   ]
  },
  {
   "cell_type": "code",
   "execution_count": 35,
   "metadata": {},
   "outputs": [
    {
     "data": {
      "text/html": [
       "<div>\n",
       "<style scoped>\n",
       "    .dataframe tbody tr th:only-of-type {\n",
       "        vertical-align: middle;\n",
       "    }\n",
       "\n",
       "    .dataframe tbody tr th {\n",
       "        vertical-align: top;\n",
       "    }\n",
       "\n",
       "    .dataframe thead th {\n",
       "        text-align: right;\n",
       "    }\n",
       "</style>\n",
       "<table border=\"1\" class=\"dataframe\">\n",
       "  <thead>\n",
       "    <tr style=\"text-align: right;\">\n",
       "      <th>toxicity</th>\n",
       "      <th>worker_id</th>\n",
       "      <th>0</th>\n",
       "      <th>1</th>\n",
       "      <th>ratio</th>\n",
       "    </tr>\n",
       "  </thead>\n",
       "  <tbody>\n",
       "    <tr>\n",
       "      <th>0</th>\n",
       "      <td>0</td>\n",
       "      <td>402.0</td>\n",
       "      <td>77.0</td>\n",
       "      <td>0.160752</td>\n",
       "    </tr>\n",
       "    <tr>\n",
       "      <th>1</th>\n",
       "      <td>1</td>\n",
       "      <td>40.0</td>\n",
       "      <td>5.0</td>\n",
       "      <td>0.111111</td>\n",
       "    </tr>\n",
       "    <tr>\n",
       "      <th>2</th>\n",
       "      <td>2</td>\n",
       "      <td>439.0</td>\n",
       "      <td>37.0</td>\n",
       "      <td>0.077731</td>\n",
       "    </tr>\n",
       "    <tr>\n",
       "      <th>3</th>\n",
       "      <td>3</td>\n",
       "      <td>325.0</td>\n",
       "      <td>42.0</td>\n",
       "      <td>0.114441</td>\n",
       "    </tr>\n",
       "    <tr>\n",
       "      <th>4</th>\n",
       "      <td>4</td>\n",
       "      <td>340.0</td>\n",
       "      <td>135.0</td>\n",
       "      <td>0.284211</td>\n",
       "    </tr>\n",
       "  </tbody>\n",
       "</table>\n",
       "</div>"
      ],
      "text/plain": [
       "toxicity  worker_id      0      1     ratio\n",
       "0                 0  402.0   77.0  0.160752\n",
       "1                 1   40.0    5.0  0.111111\n",
       "2                 2  439.0   37.0  0.077731\n",
       "3                 3  325.0   42.0  0.114441\n",
       "4                 4  340.0  135.0  0.284211"
      ]
     },
     "execution_count": 35,
     "metadata": {},
     "output_type": "execute_result"
    }
   ],
   "source": [
    "df_worker_toxicity.head()"
   ]
  },
  {
   "cell_type": "code",
   "execution_count": 36,
   "metadata": {},
   "outputs": [],
   "source": [
    "# Join the dataframe with each annotator's labeling ratio with their demographic information\n",
    "\n",
    "df_toxicity_worker_annotation = pd.merge(df_toxicity_worker_demographics,df_worker_toxicity[['worker_id','ratio']],on='worker_id', how='left')"
   ]
  },
  {
   "cell_type": "code",
   "execution_count": 37,
   "metadata": {},
   "outputs": [
    {
     "data": {
      "text/html": [
       "<div>\n",
       "<style scoped>\n",
       "    .dataframe tbody tr th:only-of-type {\n",
       "        vertical-align: middle;\n",
       "    }\n",
       "\n",
       "    .dataframe tbody tr th {\n",
       "        vertical-align: top;\n",
       "    }\n",
       "\n",
       "    .dataframe thead th {\n",
       "        text-align: right;\n",
       "    }\n",
       "</style>\n",
       "<table border=\"1\" class=\"dataframe\">\n",
       "  <thead>\n",
       "    <tr style=\"text-align: right;\">\n",
       "      <th></th>\n",
       "      <th>worker_id</th>\n",
       "      <th>gender</th>\n",
       "      <th>english_first_language</th>\n",
       "      <th>age_group</th>\n",
       "      <th>education</th>\n",
       "      <th>ratio</th>\n",
       "    </tr>\n",
       "  </thead>\n",
       "  <tbody>\n",
       "    <tr>\n",
       "      <th>0</th>\n",
       "      <td>85</td>\n",
       "      <td>female</td>\n",
       "      <td>0</td>\n",
       "      <td>18-30</td>\n",
       "      <td>bachelors</td>\n",
       "      <td>0.117043</td>\n",
       "    </tr>\n",
       "    <tr>\n",
       "      <th>1</th>\n",
       "      <td>1617</td>\n",
       "      <td>female</td>\n",
       "      <td>0</td>\n",
       "      <td>45-60</td>\n",
       "      <td>bachelors</td>\n",
       "      <td>0.106236</td>\n",
       "    </tr>\n",
       "    <tr>\n",
       "      <th>2</th>\n",
       "      <td>1394</td>\n",
       "      <td>female</td>\n",
       "      <td>0</td>\n",
       "      <td>NaN</td>\n",
       "      <td>bachelors</td>\n",
       "      <td>0.305882</td>\n",
       "    </tr>\n",
       "    <tr>\n",
       "      <th>3</th>\n",
       "      <td>311</td>\n",
       "      <td>male</td>\n",
       "      <td>0</td>\n",
       "      <td>30-45</td>\n",
       "      <td>bachelors</td>\n",
       "      <td>0.187364</td>\n",
       "    </tr>\n",
       "    <tr>\n",
       "      <th>4</th>\n",
       "      <td>1980</td>\n",
       "      <td>male</td>\n",
       "      <td>0</td>\n",
       "      <td>45-60</td>\n",
       "      <td>masters</td>\n",
       "      <td>0.170616</td>\n",
       "    </tr>\n",
       "  </tbody>\n",
       "</table>\n",
       "</div>"
      ],
      "text/plain": [
       "   worker_id  gender  english_first_language age_group  education     ratio\n",
       "0         85  female                       0     18-30  bachelors  0.117043\n",
       "1       1617  female                       0     45-60  bachelors  0.106236\n",
       "2       1394  female                       0       NaN  bachelors  0.305882\n",
       "3        311    male                       0     30-45  bachelors  0.187364\n",
       "4       1980    male                       0     45-60    masters  0.170616"
      ]
     },
     "execution_count": 37,
     "metadata": {},
     "output_type": "execute_result"
    }
   ],
   "source": [
    "df_toxicity_worker_annotation.head()"
   ]
  },
  {
   "cell_type": "code",
   "execution_count": 38,
   "metadata": {},
   "outputs": [],
   "source": [
    "# Save the dataframe with each annotator's toxicity labeling ratio with their demographic information\n",
    "\n",
    "df_toxicity_worker_annotation.to_csv('toxicity_worker_annotation.csv')"
   ]
  },
  {
   "cell_type": "code",
   "execution_count": 84,
   "metadata": {},
   "outputs": [
    {
     "data": {
      "image/png": "[encoded data removed]",
      "text/plain": [
       "<Figure size 216x360 with 1 Axes>"
      ]
     },
     "metadata": {},
     "output_type": "display_data"
    }
   ],
   "source": [
    "# Compare toxicity annotation ratios between only male and female (removing the only one labeler marker as 'other' for gender)\n",
    "\n",
    "f6 = sns.catplot(x = 'gender', y=\"ratio\", kind=\"box\", data = df_toxicity_worker_annotation[df_toxicity_worker_annotation['gender'] != 'other'], \n",
    "            saturation=.8, aspect = .6, ci = None, palette = 'Set3')\n",
    "f6.fig.subplots_adjust(top=0.85)\n",
    "f6.fig.suptitle(\"Toxicity annotation ratio, by gender\")\n",
    "f6.set_axis_labels('Gender', 'Ratio').set_titles(\"{col_name}\")\n",
    "f6.fig.savefig(\"Toxicity_annotation_ratio_by_gender.png\")"
   ]
  },
  {
   "cell_type": "code",
   "execution_count": 38,
   "metadata": {},
   "outputs": [
    {
     "name": "stdout",
     "output_type": "stream",
     "text": [
      "p value = 1.8398937468994454e-10\n"
     ]
    }
   ],
   "source": [
    "# Perform Welch's t-test for the means of the label ratios of the female and male labelers\n",
    "\n",
    "male = df_toxicity_worker_annotation[df_toxicity_worker_annotation['gender']=='male']\n",
    "female = df_toxicity_worker_annotation[df_toxicity_worker_annotation['gender']=='female']\n",
    "print('p value = ' + str(ttest_ind(male['ratio'], female['ratio'], equal_var=False, nan_policy = 'omit')[1]))"
   ]
  },
  {
   "cell_type": "markdown",
   "metadata": {},
   "source": [
    "According to the result of the Welch's t-test, we can reject the null hypothesis that there's no difference in the labeling ratio between female and male labelers. "
   ]
  },
  {
   "cell_type": "code",
   "execution_count": 85,
   "metadata": {},
   "outputs": [
    {
     "data": {
      "image/png": "[encoded data removed]",
      "text/plain": [
       "<Figure size 900x360 with 5 Axes>"
      ]
     },
     "metadata": {},
     "output_type": "display_data"
    }
   ],
   "source": [
    "# Compare toxicity annotation ratios among age groups\n",
    "\n",
    "f7 = sns.catplot(x ='gender', y=\"ratio\", col=\"age_group\", kind=\"box\", order = ['female','male'],\n",
    "                 data = df_toxicity_worker_annotation[df_toxicity_worker_annotation['gender'] != 'other']\n",
    "                 .replace('Under 18', '0-18').sort_values(by=['age_group']), \n",
    "                 saturation=.8, aspect = .5, ci = None, palette = 'Set3')\n",
    "f7.fig.subplots_adjust(top=0.85)\n",
    "f7.fig.suptitle(\"Toxicity annotation ratio, by age\", fontsize = 20)\n",
    "f7.set_axis_labels('', 'Ratio').set_titles(\"{col_name}\")\n",
    "f7.fig.savefig(\"Toxicity_annotation_ratio_by_age.png\")"
   ]
  },
  {
   "cell_type": "code",
   "execution_count": 86,
   "metadata": {},
   "outputs": [
    {
     "data": {
      "image/png": "[encoded data removed]",
      "text/plain": [
       "<Figure size 1260x360 with 7 Axes>"
      ]
     },
     "metadata": {},
     "output_type": "display_data"
    }
   ],
   "source": [
    "# Compare toxicity annotation ratios among people with different levels of education\n",
    "\n",
    "f8 = sns.catplot(x='gender', y=\"ratio\", col=\"education\", kind=\"box\", order = ['female','male'],\n",
    "                 data = df_toxicity_worker_annotation[df_toxicity_worker_annotation['gender'] != 'other']\n",
    "                 .sort_values(by=['education'], key=lambda x: x.map(education_level_dict)), \n",
    "                 saturation=.8, aspect = .5, ci = None, palette = 'Set3')\n",
    "f8.fig.subplots_adjust(top=0.85)\n",
    "f8.fig.suptitle(\"Toxicity annotation ratio, by education level\", fontsize = 20)\n",
    "f8.set_axis_labels('', 'Ratio').set_titles(\"{col_name}\")\n",
    "f8.fig.savefig(\"Toxicity_annotation_ratio_by_education.png\")"
   ]
  },
  {
   "cell_type": "code",
   "execution_count": 87,
   "metadata": {},
   "outputs": [
    {
     "data": {
      "image/png": "[encoded data removed]",
      "text/plain": [
       "<Figure size 432x360 with 2 Axes>"
      ]
     },
     "metadata": {},
     "output_type": "display_data"
    }
   ],
   "source": [
    "# Compare toxicity annotation ratioa between people who speak English as their first language and people who don't\n",
    "\n",
    "f9 = sns.catplot(x='gender', y=\"ratio\", col=\"english_first_language\", kind=\"box\", order = ['female','male'],\n",
    "                 data = df_toxicity_worker_annotation[df_toxicity_worker_annotation['gender'] != 'other'].replace({0: 'No', 1: 'Yes'}), \n",
    "            saturation=.8, aspect = .6, ci = None, palette = 'Set3')\n",
    "f9.fig.subplots_adjust(top=0.85)\n",
    "f9.fig.suptitle(\"Toxicity annotation ratio, by English as native language\", fontsize = 20)\n",
    "f9.set_axis_labels('', 'Ratio').set_titles(\"{col_name}\")\n",
    "f9.fig.savefig(\"Toxicity_annotation_ratio_by_language.png\")"
   ]
  },
  {
   "cell_type": "markdown",
   "metadata": {},
   "source": [
    "#### Result \n",
    "According to the plots, there are inconsistencies in the lableing behavior among annotators with different demographic backgroud for toxicity as well. This inconsistency is again especially obvious between female-identified and male-identified labelers. Female-identified labelers on average are more likely to label comments as toxic than male-identified labelers among all age groups, education levels, and whether if English is their first language except for people over the age of 60 or people who have doctorate degrees."
   ]
  },
  {
   "cell_type": "markdown",
   "metadata": {},
   "source": [
    "## Aggression and Toxicity Dataset Individual Analysis Discussion"
   ]
  },
  {
   "cell_type": "markdown",
   "metadata": {},
   "source": [
    "The individual analysis on aggression and the toxicity dataset both showed that female-identified labelers are more likely to label a comment as aggression or toxic. The difference in labeling behavior could be a result of personal experience or gender differences in perceiving aggression/toxicity and this might be related to the gender difference in emphathy and sympathy. This points to the need of further analysis to understand the bias in the labeled data. The consequence of this difference is inconsistency in the labeled training data and a biased model. If the model is applied to new data, based on how well the demographics of the users of of the model, the perceived performance of the model could vary."
   ]
  },
  {
   "cell_type": "markdown",
   "metadata": {},
   "source": [
    "## Analyze the aggression dataset and the toxicity dataset together\n",
    "Since each comment from the aggression dataset and the toxicity dataset was labeled by multiple annotators, this analysis aims to compare how much disagreement there was for each dataset labeling. \n",
    "The amount of agreement is quantified by dividing the total number of labels for a comment by difference between the number of positive labels and the number of negative labels and is called agreement ratio. Therefore, the greater the agreement ratio, the less discrepency there was between the different annotators."
   ]
  },
  {
   "cell_type": "code",
   "execution_count": 39,
   "metadata": {},
   "outputs": [],
   "source": [
    "# Calculate the agreement ratio for the aggression dataset\n",
    "\n",
    "df_label_aggression = df_aggression_annotations.groupby('rev_id')['aggression'].value_counts().unstack()\n",
    "df_label_aggression.reset_index(inplace=True)\n",
    "df_label_aggression = df_label_aggression.fillna(0)\n",
    "df_label_aggression['agreement_ratio'] = abs((df_label_aggression[1.0] - df_label_aggression[0.0])/ (df_label_aggression[1.0] + df_label_aggression[0.0]))"
   ]
  },
  {
   "cell_type": "code",
   "execution_count": 40,
   "metadata": {},
   "outputs": [],
   "source": [
    "# Calculate the agreement ratio for the toxicity dataset\n",
    "\n",
    "df_label_toxicity = df_toxicity_annotations.groupby('rev_id')['toxicity'].value_counts().unstack()\n",
    "df_label_toxicity.reset_index(inplace=True)\n",
    "df_label_toxicity = df_label_toxicity.fillna(0)\n",
    "df_label_toxicity['agreement_ratio'] = abs((df_label_toxicity[1.0] - df_label_toxicity[0.0]) / (df_label_toxicity[1.0] + df_label_toxicity[0.0]))"
   ]
  },
  {
   "cell_type": "code",
   "execution_count": 41,
   "metadata": {},
   "outputs": [],
   "source": [
    "# Combine the agreement ratio for the aggression dataset and the disagreement ratio for the toxicity dataset\n",
    "\n",
    "data = [df_label_aggression['agreement_ratio'], df_label_toxicity['agreement_ratio']]\n",
    "headers = [\"aggression\", \"toxicity\"]\n",
    "df_agreement_ratios = pd.concat(data, axis=1, keys=headers)\n",
    "df_agreement_ratios = df_agreement_ratios.astype(float)"
   ]
  },
  {
   "cell_type": "code",
   "execution_count": 42,
   "metadata": {},
   "outputs": [
    {
     "data": {
      "text/html": [
       "<div>\n",
       "<style scoped>\n",
       "    .dataframe tbody tr th:only-of-type {\n",
       "        vertical-align: middle;\n",
       "    }\n",
       "\n",
       "    .dataframe tbody tr th {\n",
       "        vertical-align: top;\n",
       "    }\n",
       "\n",
       "    .dataframe thead th {\n",
       "        text-align: right;\n",
       "    }\n",
       "</style>\n",
       "<table border=\"1\" class=\"dataframe\">\n",
       "  <thead>\n",
       "    <tr style=\"text-align: right;\">\n",
       "      <th></th>\n",
       "      <th>aggression</th>\n",
       "      <th>toxicity</th>\n",
       "    </tr>\n",
       "  </thead>\n",
       "  <tbody>\n",
       "    <tr>\n",
       "      <th>0</th>\n",
       "      <td>0.800000</td>\n",
       "      <td>0.8</td>\n",
       "    </tr>\n",
       "    <tr>\n",
       "      <th>1</th>\n",
       "      <td>1.000000</td>\n",
       "      <td>1.0</td>\n",
       "    </tr>\n",
       "    <tr>\n",
       "      <th>2</th>\n",
       "      <td>1.000000</td>\n",
       "      <td>1.0</td>\n",
       "    </tr>\n",
       "    <tr>\n",
       "      <th>3</th>\n",
       "      <td>0.111111</td>\n",
       "      <td>1.0</td>\n",
       "    </tr>\n",
       "    <tr>\n",
       "      <th>4</th>\n",
       "      <td>1.000000</td>\n",
       "      <td>0.6</td>\n",
       "    </tr>\n",
       "  </tbody>\n",
       "</table>\n",
       "</div>"
      ],
      "text/plain": [
       "   aggression  toxicity\n",
       "0    0.800000       0.8\n",
       "1    1.000000       1.0\n",
       "2    1.000000       1.0\n",
       "3    0.111111       1.0\n",
       "4    1.000000       0.6"
      ]
     },
     "execution_count": 42,
     "metadata": {},
     "output_type": "execute_result"
    }
   ],
   "source": [
    "df_agreement_ratios.head()"
   ]
  },
  {
   "cell_type": "code",
   "execution_count": 43,
   "metadata": {},
   "outputs": [],
   "source": [
    "# Save the dataframe with the aggrement ratio for aggression and toxicity as csv\n",
    "\n",
    "df_agreement_ratios.to_csv('aggrement_ratio.csv')"
   ]
  },
  {
   "cell_type": "markdown",
   "metadata": {},
   "source": [
    "Plot the histogram to show agreement ratio distribution for all the comments for aggression and toxicity."
   ]
  },
  {
   "cell_type": "code",
   "execution_count": 88,
   "metadata": {},
   "outputs": [
    {
     "data": {
      "image/png": "[encoded data removed]",
      "text/plain": [
       "<Figure size 648x432 with 1 Axes>"
      ]
     },
     "metadata": {},
     "output_type": "display_data"
    }
   ],
   "source": [
    "fig, ax = plt.subplots(figsize=(9, 6))\n",
    "\n",
    "binsize = 10\n",
    "\n",
    "ax.hist([df_agreement_ratios.aggression.tolist(), df_agreement_ratios.toxicity.tolist()], binsize, density=True, histtype='bar', \n",
    "        align='mid', label=['aggression','toxicity'], alpha=0.8)\n",
    "ax.set_xticks(np.arange(0, 1.1, step=0.1))\n",
    "ax.set_xlabel('Label agreement ratio')\n",
    "ax.set_ylabel('Probability density')\n",
    "ax.set_title('Label Agreement for Aggression and Toxicity', fontsize = 20)\n",
    "ax.legend()\n",
    "plt.tight_layout()\n",
    "plt.show()\n",
    "ax.figure.savefig(\"label_agreement.png\")"
   ]
  },
  {
   "cell_type": "markdown",
   "metadata": {},
   "source": [
    "Calculate the percentage of low agreement comments for aggression and toxicity"
   ]
  },
  {
   "cell_type": "code",
   "execution_count": 78,
   "metadata": {},
   "outputs": [
    {
     "name": "stdout",
     "output_type": "stream",
     "text": [
      "Aggression Low Agreement Percentage: 16.73\n",
      "Toxicity Low Agreement Percentage: 12.21\n"
     ]
    }
   ],
   "source": [
    "print('Aggression Low Agreement Percentage: ' + str(np.round((df_agreement_ratios[df_agreement_ratios['aggression'] < 0.5]['aggression'].count())/\n",
    "                                    df_agreement_ratios['aggression'].count()*100,2)))\n",
    "print('Toxicity Low Agreement Percentage: ' + str(np.round((df_agreement_ratios[df_agreement_ratios['toxicity'] < 0.5]['toxicity'].count())/\n",
    "                                  df_agreement_ratios['toxicity'].count()*100,2)))"
   ]
  },
  {
   "cell_type": "markdown",
   "metadata": {},
   "source": [
    "#### Result\n",
    "According to the histogram, for most comments lablers can reach aggrement with aggreemnt ratio greater than 0.9 and people are even more likely to agree on labeling toxic comments than aggressive comments. "
   ]
  },
  {
   "cell_type": "markdown",
   "metadata": {},
   "source": [
    "## Aggression and Toxicity Dataset Joint Analysis Discussion"
   ]
  },
  {
   "cell_type": "markdown",
   "metadata": {},
   "source": [
    "By comparing the agreemnt ratio on labeling the comments from the aggression and the toxicity datasets, we can see that the majority of the comments in both datasets has high level of aggrementbut the aggression dataset has an higher percentage of the data with low agreement. This may be because that the deifinition of aggression is more vague compare to toxicity. Aggression can be taken more personal, thus people with different backgroud can show more variation when interpreting the comments. This disagreement in annotation could lead to a model that performs especially poorly when it comes to aggressive or toxic comments that are weaker in tone or controversial."
   ]
  },
  {
   "cell_type": "markdown",
   "metadata": {},
   "source": [
    "## Further Implication Discussion"
   ]
  },
  {
   "cell_type": "markdown",
   "metadata": {},
   "source": [
    "\n",
    "What are some other contexts or applications where you would expect the Perspective API to perform particularly well, or particularly poorly? Why?\n",
    "<br>\n",
    "The Perspective API should perform well on dectecting inappropiate language use on shopping website product reviews since they are usually approximately the same length as comments and are mostly straightforward. I would expect the Perpective API to perform poorly if it's used to detect aggressive/toxic language in videos or music since the model wasn't trained on data that included the contect of the language use.\n",
    "<br>\n",
    "<br>\n",
    "What are some kinds of hostile speech that would be difficult to accurately detect using the approach used to train the Perspective API models? \n",
    "<br>\n",
    "I think that sarcasm would be very difficult to detect by the model since it can be expressed in many different ways and no aggressive/toxic word has to appear for a sarcistic comment to be hurtful. Additionally, since online language evolves so fast, new offensive phrases that didn't exist in the training data would be difficult for the model to detect. Comments that contain multiple languages would also be difficult to detect. \n",
    "<br>\n",
    "<br>\n",
    "What are some potential unintended, negative consequences of using the Perspective API for any of these purposes? In your opinion, are these consequences likely or serious enough that you would recommend that the Perspective API not be used in these applications? Why or why not?\n",
    "<br>\n",
    "The model might filter out legitimate concerns raised by users. For example, if an user is expressing dissernt regarding another user's aggressive or toxic language, his/her concern could be recognized as aggressive/toxic and could be removed. In my opinion, these consequences are not serious enough to stop using the Perspecitve API because the website could be designed better to handle these problems. For instance, there could be better ways for users to file complaint rather than using the comments.\n"
   ]
  },
  {
   "cell_type": "code",
   "execution_count": null,
   "metadata": {},
   "outputs": [],
   "source": []
  }
 ],
 "metadata": {
  "kernelspec": {
   "display_name": "Python 3",
   "language": "python",
   "name": "python3"
  },
  "language_info": {
   "codemirror_mode": {
    "name": "ipython",
    "version": 3
   },
   "file_extension": ".py",
   "mimetype": "text/x-python",
   "name": "python",
   "nbconvert_exporter": "python",
   "pygments_lexer": "ipython3",
   "version": "3.7.4"
  }
 },
 "nbformat": 4,
 "nbformat_minor": 4
}
