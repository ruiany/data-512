{
 "cells": [
  {
   "cell_type": "markdown",
   "metadata": {},
   "source": [
    "## Motivation\n",
    "For the final class project, I’m interested in studying the food crisis in the US. For a long time, I know that the US has one of the highest obesity rates in the world and I have an impression that eating healthy can be expensive and difficult depending on where you live. I am intrigued by the term ‘food desert’, which means areas with limited access to affordable and nutritious food options. It seems like a unique problem to this country and lacking nutritious food options can cause serious consequences to the people involved and potentially lead to public health crisis. I would like to perform analyses to understand where the food deserts are located in the country and how they are related to the demographic and socioeconomic information of the people in those areas. "
   ]
  },
  {
   "cell_type": "markdown",
   "metadata": {},
   "source": [
    "## Data\n",
    "The datasets I will use are the US food access data from the Food Access Research Atlas (https://www.ers.usda.gov/data-products/food-access-research-atlas/) and the Nutrition, Physical Activity, and Obesity - Behavioral Risk Factor Surveillance System from the Centers for Disease Control and Prevention (CDC) (https://chronicdata.cdc.gov/Nutrition-Physical-Activity-and-Obesity/Nutrition-Physical-Activity-and-Obesity-Behavioral/hn4x-zwk7). The Food Access Research Atlas dataset is released under a Creative Commons CC Zero License (cc-zero) and the CDC dataset is under a Public Domain license. Both datasets allow public use. \n",
    "\n",
    "The first dataset contains information on supermarket access at various distances depending on if the neighborhood is rural or urban. It also combines food access data with other fields such as age, race, and income. The second dataset contains data on adult's diet, physical activity, and weight status from Behavioral Risk Factor Surveillance System, which provides national and state specific data on obesity, nutrition, physical activity, and breastfeeding. I'm hoping to join the two datasets by geographic information and see if there's any correlation between food access and physical health measured by obesity rate. "
   ]
  },
  {
   "cell_type": "markdown",
   "metadata": {},
   "source": [
    "## Unknows\n",
    "Since the two datasets are from different sources, it is unknown how well they can be combined since they might contain data at different granularity. Additionally, the quality of the data is not clear and it is difficult to estimate how much time will be spent on cleaning the datasets to get them ready to analysis and visualization. "
   ]
  },
  {
   "cell_type": "markdown",
   "metadata": {},
   "source": [
    "## Research question: \n",
    "1. How does food access limit affect physical health measured by obesity rate?\n",
    "2. Is there any bias in food deserts locations in terms of peopel's socioeconomic status and/or race?"
   ]
  },
  {
   "cell_type": "markdown",
   "metadata": {},
   "source": [
    "## Hypothesis: \n",
    "1. Limited access to nutritious food can negatively affect people's physical health and can result in higher obesity rate.\n",
    "2. There is bias in food deserts locations in terms of peopel's socioeconomic status and/or race"
   ]
  },
  {
   "cell_type": "markdown",
   "metadata": {},
   "source": [
    "## Background/Related Work\n",
    "The concept of food desert has been around for more than a decade and its definition was documented here in the report [Starved for access: life in rural America's food deserts](https://www.ruralsociology.org/assets/docs/rural-realities/rural-realities-1-4.pdf) from 2007. A food desert is an area where people have limited access to a variety of healthy and affordable food. More formally, the [United States Department of Agriculture (USDA)](https://www.ers.usda.gov/data-products/food-access-research-atlas/documentation/) defines a food desert as a Census Tract with substantial low income populations that have low access to affordable, healthful food retail such as supermarkets. Quantitatively, the datasets defined regions as foods deserts using three different measuring standards:\n",
    "1. Low-income and low-access tract measured at 1 mile and 10 miles\n",
    "Definition: A low-income tract with at least 500 people, or 33 percent of the population, living more than 1 mile (urban areas) or more than 10 miles (rural areas) from the nearest supermarket, supercenter, or large grocery store. Using this measure, an estimated 54.4 million people, or 17.7 percent of the U.S. population, live in tracts that are low-income and low access and are more than ½ mile or 10 miles from the nearest supermarket.\n",
    "\n",
    "2. Low-income and low-access tract measured at ½ mile and 10 miles\n",
    "Definition: A low-income tract with at least 500 people, or 33 percent of the population, living more than ½ mile (urban areas) or more than 10 miles (rural areas) from the nearest supermarket, supercenter, or large grocery store. This measure shows that an estimated 19 million people, or 6.2 percent of the U.S. population, live in low-income and low access tracts and are more than 1 mile or 10 miles from a supermarket.\n",
    "\n",
    "3. Low-income and low-access tract measured at 1 and 20 miles\n",
    "Definition: A low-income tract with at least 500 people, or 33 percent of the population, living more than 1 mile (urban areas) or more than 20 miles (rural areas) from the nearest supermarket, supercenter, or large grocery store. Under this measure, an estimated 17.3 million people, or 5.6 percent of the U.S. population, live in low-income and low access tracts and are more than 1 mile or 20 miles from a supermarket.\n",
    "\n",
    "There has been a lot of effort into understanding where food deserts are and USDA has published their census data and created an online [Food Access Research Atlas](https://www.ers.usda.gov/data-products/food-access-research-atlas/go-to-the-atlas/) where people can interactively map the data and visualize them.\n",
    "\n",
    "Throughout the years, researchers have linked the lack of healthy and affordable food options with public health problems, especially chronic diet-related diseases such as diabete and obesity. In 2009, the National Academy of Science published a detailed [report](https://www.nap.edu/catalog/12623/the-public-health-effects-of-food-deserts-workshop-summary) with an overview of the extend of food deserts, studies of food deserts from multiple aspects, as well as evidence on how limited food access can affect people's diet and health. The report showed that the problem of food deserts was relavant but it was from more than a decade ago. I would like to work with the latest data from the Food Access Research Atlas to see if the problems persist. "
   ]
  },
  {
   "cell_type": "markdown",
   "metadata": {},
   "source": [
    "## Methodology\n",
    "- **Data Collection**: Download data from sources and compile them together.\n",
    "- **Exploratory Data Analysis**: Understand and summary the data via statistical methods and visual approaches to have more knowledge on what information the datasets contain and to better design analysis and modeling approaches. This step should also help with assessing data quality.\n",
    "- **Data Preparation**: Clean the data to remove inaccurate or incomplete data. This step should improve the integrety of the data and help with the analysis/modeling step. \n",
    "- **Anlysis**: Determine the prevalance of food deserts and perform statistical tests to detect if there's any bias among different income groups and racial groups. Perform regression analysis to determine if there's correlation between food access and obesity rate. \n",
    "- **Evaluation**: Assess the quality of the analysis results to answer the research question.\n",
    "- **Visualization**: Create visualization to show the results of the analysis."
   ]
  },
  {
   "cell_type": "markdown",
   "metadata": {},
   "source": []
  }
 ],
 "metadata": {
  "kernelspec": {
   "display_name": "Python 3",
   "language": "python",
   "name": "python3"
  },
  "language_info": {
   "codemirror_mode": {
    "name": "ipython",
    "version": 3
   },
   "file_extension": ".py",
   "mimetype": "text/x-python",
   "name": "python",
   "nbconvert_exporter": "python",
   "pygments_lexer": "ipython3",
   "version": "3.6.10"
  }
 },
 "nbformat": 4,
 "nbformat_minor": 4
}
