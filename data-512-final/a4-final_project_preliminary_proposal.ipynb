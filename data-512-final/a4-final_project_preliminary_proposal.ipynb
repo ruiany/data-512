{
 "cells": [
  {
   "cell_type": "markdown",
   "metadata": {},
   "source": [
    "## Motivation\n",
    "For the final class project, I’m interested in studying the food crisis in the US. For a long time, I know that the US has one of the highest obesity rates in the world and I have an impression that eating healthy can be expensive and difficult depending on where you live. I am intrigued by the term ‘food desert’, which means areas with limited access to affordable and nutritious food options. It seems like a unique problem to this country and lacking nutritious food options can cause serious consequences to the people involved and potentially lead to public health crisis. I would like to perform analyses to understand where the food deserts are located in the country and how they are related to the demographic and socioeconomic information of the people in those areas. "
   ]
  },
  {
   "cell_type": "markdown",
   "metadata": {},
   "source": [
    "## Data\n",
    "The datasets I will use are the US food access data from the Food Access Research Atlas (https://www.ers.usda.gov/data-products/food-access-research-atlas/) and the Nutrition, Physical Activity, and Obesity - Behavioral Risk Factor Surveillance System from the Centers for Disease Control and Prevention (CDC) (https://chronicdata.cdc.gov/Nutrition-Physical-Activity-and-Obesity/Nutrition-Physical-Activity-and-Obesity-Behavioral/hn4x-zwk7). The Food Access Research Atlas dataset is released under a Creative Commons CC Zero License (cc-zero) and the CDC dataset is under a Public Domain license. Both datasets allow public use. \n",
    "\n",
    "The first dataset contains information on supermarket access at various distances depending on if the neighborhood is rural or urban. It also combines food access data with other fields such as age, race, and income. The second dataset contains data on adult's diet, physical activity, and weight status from Behavioral Risk Factor Surveillance System, which provides national and state specific data on obesity, nutrition, physical activity, and breastfeeding. I'm hoping to join the two datasets by geographic information and see if there's any correlation between food access and physical health measured by obesity rate. "
   ]
  },
  {
   "cell_type": "markdown",
   "metadata": {},
   "source": [
    "## Unknows\n",
    "Since the two datasets are from different sources, it is unknown how well they can be combined since they might contain data at different granularity. Additionally, the quality of the data is not clear and it is difficult to estimate how much time will be spent on cleaning the datasets to get them ready to analysis and visualization. "
   ]
  },
  {
   "cell_type": "code",
   "execution_count": null,
   "metadata": {},
   "outputs": [],
   "source": []
  }
 ],
 "metadata": {
  "kernelspec": {
   "display_name": "Python 3",
   "language": "python",
   "name": "python3"
  },
  "language_info": {
   "codemirror_mode": {
    "name": "ipython",
    "version": 3
   },
   "file_extension": ".py",
   "mimetype": "text/x-python",
   "name": "python",
   "nbconvert_exporter": "python",
   "pygments_lexer": "ipython3",
   "version": "3.7.4"
  }
 },
 "nbformat": 4,
 "nbformat_minor": 4
}
